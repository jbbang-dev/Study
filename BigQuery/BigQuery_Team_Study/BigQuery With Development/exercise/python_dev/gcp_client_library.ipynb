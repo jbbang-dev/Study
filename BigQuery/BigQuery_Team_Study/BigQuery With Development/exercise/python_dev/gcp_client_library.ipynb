{
 "cells": [
  {
   "cell_type": "code",
   "execution_count": null,
   "metadata": {},
   "outputs": [],
   "source": [
    "# pip install google-cloud-bigquery"
   ]
  },
  {
   "cell_type": "code",
   "execution_count": null,
   "metadata": {},
   "outputs": [],
   "source": [
    "# pip install pandas"
   ]
  },
  {
   "cell_type": "code",
   "execution_count": null,
   "metadata": {},
   "outputs": [],
   "source": [
    "# pip install pyarrow"
   ]
  },
  {
   "cell_type": "code",
   "execution_count": null,
   "metadata": {},
   "outputs": [],
   "source": [
    "# pip install google-cloud-bigquery-storage"
   ]
  },
  {
   "cell_type": "code",
   "execution_count": null,
   "metadata": {},
   "outputs": [],
   "source": [
    "# pip install matplotlib"
   ]
  },
  {
   "cell_type": "code",
   "execution_count": null,
   "metadata": {},
   "outputs": [],
   "source": [
    "# pip install tqdm"
   ]
  },
  {
   "cell_type": "code",
   "execution_count": null,
   "metadata": {},
   "outputs": [],
   "source": [
    "# BigQuery 라이브러리 import\n",
    "import os\n",
    "from google.cloud import bigquery"
   ]
  },
  {
   "cell_type": "code",
   "execution_count": null,
   "metadata": {},
   "outputs": [],
   "source": [
    "# project 전역설정\n",
    "PROJECT = \"looker-data-grfit\"\n",
    "# service account json key pair 환경변수 설정\n",
    "credential_path = \"looker-data-grfit-6cd8aea2ca15.json\"\n",
    "os.environ['GOOGLE_APPLICATION_CREDENTIALS'] = credential_path\n",
    "# 클라이언트 설정\n",
    "bq = bigquery.Client(project=PROJECT)"
   ]
  },
  {
   "cell_type": "code",
   "execution_count": null,
   "metadata": {},
   "outputs": [],
   "source": [
    "# 데이터셋 조회\n",
    "dsinfo = bq.get_dataset('pipelining_sample')\n",
    "print(\"{} / {} / {}\".format(dsinfo.dataset_id, dsinfo.created, dsinfo.location))"
   ]
  },
  {
   "cell_type": "code",
   "execution_count": null,
   "metadata": {},
   "outputs": [],
   "source": [
    "# 엑세스 권한 조회\n",
    "for access in dsinfo.access_entries:\n",
    "    # if access.role == 'READER':\n",
    "    print(access)"
   ]
  },
  {
   "cell_type": "code",
   "execution_count": null,
   "metadata": {},
   "outputs": [],
   "source": [
    "# 신규 데이터셋 생성\n",
    "DS_NAME = \"bq_lib_ch05_jsyoo\"\n",
    "dataset_id = \"{}.{}\".format(PROJECT, DS_NAME)\n",
    "dsinfo = bigquery.Dataset(dataset_id)\n",
    "dsinfo.location = \"asia-northeast3\"\n",
    "ds = bq.create_dataset(dsinfo, exists_ok=True)"
   ]
  },
  {
   "cell_type": "code",
   "execution_count": null,
   "metadata": {},
   "outputs": [],
   "source": [
    "# 데이터셋 삭제\n",
    "bq.delete_dataset(DS_NAME, not_found_ok=True)"
   ]
  },
  {
   "cell_type": "code",
   "execution_count": null,
   "metadata": {},
   "outputs": [],
   "source": [
    "# 데이터셋 다시 생성\n",
    "# DS_NAME = \"bq_lib_ch05_jsyoo\"\n",
    "dataset_id = \"{}.{}\".format(PROJECT, DS_NAME)\n",
    "dsinfo = bigquery.Dataset(dataset_id)\n",
    "dsinfo.location = \"asia-northeast3\"\n",
    "ds = bq.create_dataset(dsinfo, exists_ok=True)"
   ]
  },
  {
   "cell_type": "code",
   "execution_count": null,
   "metadata": {},
   "outputs": [],
   "source": [
    "# 신규 테이블 생성\n",
    "TABLE_NAME = \"temp_table\"\n",
    "table_id = \"{}.{}.{}\".format(PROJECT, DS_NAME, TABLE_NAME)\n",
    "schema = [\n",
    "    bigquery.SchemaField(\"chapter\", \"INTEGER\", mode=\"REQUIRED\"),\n",
    "    bigquery.SchemaField(\"title\", \"STRING\", mode=\"REQUIRED\"),\n",
    "]\n",
    "table = bq.create_table(bigquery.Table(table_id, schema), exists_ok=True)\n",
    "\n",
    "print(table.etag, table.schema)"
   ]
  },
  {
   "cell_type": "code",
   "execution_count": null,
   "metadata": {},
   "outputs": [],
   "source": [
    "# 신규 행 추가\n",
    "rows = [\n",
    "    (1, u\"What is BigQuery?\"),\n",
    "    (2, u\"BigQuery test\"),\n",
    "]\n",
    "\n",
    "errors = bq.insert_rows(table, rows=rows)"
   ]
  },
  {
   "cell_type": "code",
   "execution_count": null,
   "metadata": {},
   "outputs": [],
   "source": [
    "# 테이블 메타데이터는 바로 업데이트 되지 않음\n",
    "print(table.num_rows)"
   ]
  },
  {
   "cell_type": "code",
   "execution_count": null,
   "metadata": {},
   "outputs": [],
   "source": [
    "# pandas import\n",
    "import pandas as pd\n",
    "from google.cloud.bigquery.job import LoadJobConfig, WriteDisposition, CreateDisposition"
   ]
  },
  {
   "cell_type": "code",
   "execution_count": null,
   "metadata": {},
   "outputs": [],
   "source": [
    "# 판다스 데이터 로드\n",
    "data = [\n",
    "    (3, u\"pandas\"),\n",
    "    (4, u\"data load\")\n",
    "]\n",
    "# 데이터프레임 설정\n",
    "df = pd.DataFrame(data, columns=[\"chapter\", \"title\"])\n",
    "table_id = '{}.{}.{}'.format(PROJECT, DS_NAME, TABLE_NAME)\n",
    "load_config = LoadJobConfig(\n",
    "    create_disposition=CreateDisposition.CREATE_IF_NEEDED,\n",
    "    write_disposition=WriteDisposition.WRITE_APPEND)\n",
    "# 데이터프레임에서 데이터 로드\n",
    "job = bq.load_table_from_dataframe(df, table_id, job_config=load_config)\n",
    "job.result() # blocks and waits"
   ]
  },
  {
   "cell_type": "markdown",
   "metadata": {},
   "source": [
    "##### LoadJobConfig - Create / Write 설정\n",
    "1. Create\n",
    "- CREATE_NEVER : 테이블이 존재한다는 가정하에 작동\n",
    "- CREATE_IF_NEEDED : 테이블이 있으면 기존 테이블에, 없으면 생성\n",
    "2. write\n",
    "- WRITE_APPEND : 데이터 추가\n",
    "- WRITE_EMPTY : 테이블이 비어있어야 하며, 존재하면 에러발생\n",
    "- WRITE_TRUNCATE : 기존 테이블을 비우고 데이터 추가\n"
   ]
  },
  {
   "cell_type": "code",
   "execution_count": null,
   "metadata": {},
   "outputs": [],
   "source": [
    "# 로컬파일 로드\n",
    "with open(\"upload.csv\", mode=\"rb\") as fp:\n",
    "    job = bq.load_table_from_file(fp, table, job_config=load_config)"
   ]
  },
  {
   "cell_type": "code",
   "execution_count": null,
   "metadata": {},
   "outputs": [],
   "source": [
    "# 테이블에서 데이터 추출\n",
    "# 추출할 table, field, row 정보 설정\n",
    "table_id = 'bigquery-public-data.london_bicycles.cycle_stations'\n",
    "table = bq.get_table(table_id)\n",
    "fields = [field for field in table.schema if 'count' in field.name or field.name =='id']\n",
    "rows = bq.list_rows(table, start_index=0, max_results=5, selected_fields=fields)\n",
    "# 추출 데이터 출력\n",
    "print(*[field.name for field in rows.schema])\n",
    "for row in rows: print(*row)"
   ]
  },
  {
   "cell_type": "code",
   "execution_count": null,
   "metadata": {},
   "outputs": [],
   "source": [
    "# 파라미터를 이용한 SQL 실행\n",
    "sql = open(\"exec_query.sql\").read()\n",
    "# 쿼리 파라미터 설정\n",
    "config = bigquery.QueryJobConfig()\n",
    "config.query_parameters = [\n",
    "    bigquery.ScalarQueryParameter('min_duration', 'INT64', 600)\n",
    "]\n",
    "# 쿼리 실행\n",
    "result = bq.query(sql, location='EU', job_config=config)\n",
    "# 쿼리 결과 출력\n",
    "for row in result:\n",
    "    fields = (row['start_station_name'], row['num_trips'])\n",
    "    print(*fields)"
   ]
  },
  {
   "cell_type": "code",
   "execution_count": null,
   "metadata": {},
   "outputs": [],
   "source": [
    "# jupyter-lab에서 jupyter magic 키워드 사용 개발(%, %%)\n",
    "# 클라이언트 라이브러리에서 bigquery magic 라이브러리 호출\n",
    "%load_ext google.cloud.bigquery"
   ]
  },
  {
   "cell_type": "code",
   "execution_count": null,
   "metadata": {},
   "outputs": [],
   "source": [
    "%%bigquery df\n",
    "--project looker-grfit-data\n",
    "WITH ALL_BAD_TRIPS AS (\n",
    "    SELECT\n",
    "        START_STATION_NAME,\n",
    "        COUNTIF(DURATION < 600 AND START_STATION_NAME = END_STATION_NAME) AS BAD_TRIPS,\n",
    "        COUNT(*) AS NUM_TRIPS\n",
    "    FROM `bigquery-public-data`.london_bicycles.cycle_hire\n",
    "    WHERE EXTRACT(YEAR FROM START_DATE) = 2016\n",
    "    GROUP BY START_STATION_NAME\n",
    "    HAVING NUM_TRIPS > 10\n",
    ")\n",
    "SELECT *, BAD_TRIPS / NUM_TRIPS AS FRACTION_BAD\n",
    "FROM ALL_BAD_TRIPS \n",
    "ORDER BY FRACTION_BAD DESC"
   ]
  },
  {
   "cell_type": "code",
   "execution_count": null,
   "metadata": {},
   "outputs": [],
   "source": [
    "df.describe();"
   ]
  },
  {
   "cell_type": "code",
   "execution_count": null,
   "metadata": {},
   "outputs": [],
   "source": [
    "df.plot.scatter('NUM_TRIPS', 'FRACTION_BAD');"
   ]
  }
 ],
 "metadata": {
  "interpreter": {
   "hash": "e0a9a546311845e517a7260c4e2c9278b50361d4d99eb58663d9762bec3edf8d"
  },
  "kernelspec": {
   "display_name": "bq-python-kernel",
   "language": "python",
   "name": "venv"
  },
  "language_info": {
   "codemirror_mode": {
    "name": "ipython",
    "version": 3
   },
   "file_extension": ".py",
   "mimetype": "text/x-python",
   "name": "python",
   "nbconvert_exporter": "python",
   "pygments_lexer": "ipython3",
   "version": "3.8.9"
  }
 },
 "nbformat": 4,
 "nbformat_minor": 4
}
