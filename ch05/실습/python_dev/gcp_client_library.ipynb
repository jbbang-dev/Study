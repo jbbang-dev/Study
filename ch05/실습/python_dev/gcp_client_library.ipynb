{
 "cells": [
  {
   "cell_type": "code",
   "execution_count": 25,
   "metadata": {},
   "outputs": [],
   "source": [
    "# pip install google-cloud-bigquery"
   ]
  },
  {
   "cell_type": "code",
   "execution_count": 26,
   "metadata": {},
   "outputs": [],
   "source": [
    "# pip install pandas"
   ]
  },
  {
   "cell_type": "code",
   "execution_count": 27,
   "metadata": {},
   "outputs": [],
   "source": [
    "# pip install pyarrow"
   ]
  },
  {
   "cell_type": "code",
   "execution_count": null,
   "metadata": {},
   "outputs": [],
   "source": [
    "# pip install google-cloud-bigquery-storage"
   ]
  },
  {
   "cell_type": "code",
   "execution_count": null,
   "metadata": {},
   "outputs": [],
   "source": [
    "# pip install matplotlib"
   ]
  },
  {
   "cell_type": "code",
   "execution_count": null,
   "metadata": {},
   "outputs": [],
   "source": [
    "# pip install tqdm"
   ]
  },
  {
   "cell_type": "code",
   "execution_count": 2,
   "metadata": {},
   "outputs": [],
   "source": [
    "# BigQuery 라이브러리 import\n",
    "import os\n",
    "from google.cloud import bigquery"
   ]
  },
  {
   "cell_type": "code",
   "execution_count": 3,
   "metadata": {},
   "outputs": [],
   "source": [
    "# project 전역설정\n",
    "PROJECT = \"looker-data-grfit\"\n",
    "# service account json key pair 환경변수 설정\n",
    "credential_path = \"looker-data-grfit-6cd8aea2ca15.json\"\n",
    "os.environ['GOOGLE_APPLICATION_CREDENTIALS'] = credential_path\n",
    "# 클라이언트 설정\n",
    "bq = bigquery.Client(project=PROJECT)"
   ]
  },
  {
   "cell_type": "code",
   "execution_count": 4,
   "metadata": {},
   "outputs": [
    {
     "name": "stdout",
     "output_type": "stream",
     "text": [
      "pipelining_sample / 2021-11-24 06:35:47.013000+00:00 / asia-northeast3\n"
     ]
    }
   ],
   "source": [
    "# 데이터셋 조회\n",
    "dsinfo = bq.get_dataset('pipelining_sample')\n",
    "print(\"{} / {} / {}\".format(dsinfo.dataset_id, dsinfo.created, dsinfo.location))"
   ]
  },
  {
   "cell_type": "code",
   "execution_count": 5,
   "metadata": {},
   "outputs": [
    {
     "name": "stdout",
     "output_type": "stream",
     "text": [
      "<AccessEntry: role=WRITER, specialGroup=projectWriters>\n",
      "<AccessEntry: role=OWNER, specialGroup=projectOwners>\n",
      "<AccessEntry: role=OWNER, userByEmail=jsyoo@vntgcorp.com>\n",
      "<AccessEntry: role=READER, specialGroup=projectReaders>\n"
     ]
    }
   ],
   "source": [
    "# 엑세스 권한 조회\n",
    "for access in dsinfo.access_entries:\n",
    "    # if access.role == 'READER':\n",
    "    print(access)"
   ]
  },
  {
   "cell_type": "code",
   "execution_count": 6,
   "metadata": {},
   "outputs": [],
   "source": [
    "# 신규 데이터셋 생성\n",
    "DS_NAME = \"bq_lib_ch05_jsyoo\"\n",
    "dataset_id = \"{}.{}\".format(PROJECT, DS_NAME)\n",
    "dsinfo = bigquery.Dataset(dataset_id)\n",
    "dsinfo.location = \"asia-northeast3\"\n",
    "ds = bq.create_dataset(dsinfo, exists_ok=True)"
   ]
  },
  {
   "cell_type": "code",
   "execution_count": 7,
   "metadata": {},
   "outputs": [
    {
     "ename": "BadRequest",
     "evalue": "400 DELETE https://bigquery.googleapis.com/bigquery/v2/projects/looker-data-grfit/datasets/bq_lib_ch05_jsyoo?prettyPrint=false: Dataset looker-data-grfit:bq_lib_ch05_jsyoo is still in use",
     "output_type": "error",
     "traceback": [
      "\u001b[1;31m---------------------------------------------------------------------------\u001b[0m",
      "\u001b[1;31mBadRequest\u001b[0m                                Traceback (most recent call last)",
      "\u001b[1;32m~\\AppData\\Local\\Temp/ipykernel_15144/3421505474.py\u001b[0m in \u001b[0;36m<module>\u001b[1;34m\u001b[0m\n\u001b[0;32m      1\u001b[0m \u001b[1;31m# 데이터셋 삭제\u001b[0m\u001b[1;33m\u001b[0m\u001b[1;33m\u001b[0m\u001b[1;33m\u001b[0m\u001b[0m\n\u001b[1;32m----> 2\u001b[1;33m \u001b[0mbq\u001b[0m\u001b[1;33m.\u001b[0m\u001b[0mdelete_dataset\u001b[0m\u001b[1;33m(\u001b[0m\u001b[0mDS_NAME\u001b[0m\u001b[1;33m,\u001b[0m \u001b[0mnot_found_ok\u001b[0m\u001b[1;33m=\u001b[0m\u001b[1;32mTrue\u001b[0m\u001b[1;33m)\u001b[0m\u001b[1;33m\u001b[0m\u001b[1;33m\u001b[0m\u001b[0m\n\u001b[0m",
      "\u001b[1;32m~\\AppData\\Local\\Programs\\Python\\Python38\\lib\\site-packages\\google\\cloud\\bigquery\\client.py\u001b[0m in \u001b[0;36mdelete_dataset\u001b[1;34m(self, dataset, delete_contents, retry, timeout, not_found_ok)\u001b[0m\n\u001b[0;32m   1592\u001b[0m \u001b[1;33m\u001b[0m\u001b[0m\n\u001b[0;32m   1593\u001b[0m         \u001b[1;32mtry\u001b[0m\u001b[1;33m:\u001b[0m\u001b[1;33m\u001b[0m\u001b[1;33m\u001b[0m\u001b[0m\n\u001b[1;32m-> 1594\u001b[1;33m             self._call_api(\n\u001b[0m\u001b[0;32m   1595\u001b[0m                 \u001b[0mretry\u001b[0m\u001b[1;33m,\u001b[0m\u001b[1;33m\u001b[0m\u001b[1;33m\u001b[0m\u001b[0m\n\u001b[0;32m   1596\u001b[0m                 \u001b[0mspan_name\u001b[0m\u001b[1;33m=\u001b[0m\u001b[1;34m\"BigQuery.deleteDataset\"\u001b[0m\u001b[1;33m,\u001b[0m\u001b[1;33m\u001b[0m\u001b[1;33m\u001b[0m\u001b[0m\n",
      "\u001b[1;32m~\\AppData\\Local\\Programs\\Python\\Python38\\lib\\site-packages\\google\\cloud\\bigquery\\client.py\u001b[0m in \u001b[0;36m_call_api\u001b[1;34m(self, retry, span_name, span_attributes, job_ref, headers, **kwargs)\u001b[0m\n\u001b[0;32m    780\u001b[0m                 \u001b[0mname\u001b[0m\u001b[1;33m=\u001b[0m\u001b[0mspan_name\u001b[0m\u001b[1;33m,\u001b[0m \u001b[0mattributes\u001b[0m\u001b[1;33m=\u001b[0m\u001b[0mspan_attributes\u001b[0m\u001b[1;33m,\u001b[0m \u001b[0mclient\u001b[0m\u001b[1;33m=\u001b[0m\u001b[0mself\u001b[0m\u001b[1;33m,\u001b[0m \u001b[0mjob_ref\u001b[0m\u001b[1;33m=\u001b[0m\u001b[0mjob_ref\u001b[0m\u001b[1;33m\u001b[0m\u001b[1;33m\u001b[0m\u001b[0m\n\u001b[0;32m    781\u001b[0m             ):\n\u001b[1;32m--> 782\u001b[1;33m                 \u001b[1;32mreturn\u001b[0m \u001b[0mcall\u001b[0m\u001b[1;33m(\u001b[0m\u001b[1;33m)\u001b[0m\u001b[1;33m\u001b[0m\u001b[1;33m\u001b[0m\u001b[0m\n\u001b[0m\u001b[0;32m    783\u001b[0m \u001b[1;33m\u001b[0m\u001b[0m\n\u001b[0;32m    784\u001b[0m         \u001b[1;32mreturn\u001b[0m \u001b[0mcall\u001b[0m\u001b[1;33m(\u001b[0m\u001b[1;33m)\u001b[0m\u001b[1;33m\u001b[0m\u001b[1;33m\u001b[0m\u001b[0m\n",
      "\u001b[1;32m~\\AppData\\Local\\Programs\\Python\\Python38\\lib\\site-packages\\google\\api_core\\retry.py\u001b[0m in \u001b[0;36mretry_wrapped_func\u001b[1;34m(*args, **kwargs)\u001b[0m\n\u001b[0;32m    281\u001b[0m                 \u001b[0mself\u001b[0m\u001b[1;33m.\u001b[0m\u001b[0m_initial\u001b[0m\u001b[1;33m,\u001b[0m \u001b[0mself\u001b[0m\u001b[1;33m.\u001b[0m\u001b[0m_maximum\u001b[0m\u001b[1;33m,\u001b[0m \u001b[0mmultiplier\u001b[0m\u001b[1;33m=\u001b[0m\u001b[0mself\u001b[0m\u001b[1;33m.\u001b[0m\u001b[0m_multiplier\u001b[0m\u001b[1;33m\u001b[0m\u001b[1;33m\u001b[0m\u001b[0m\n\u001b[0;32m    282\u001b[0m             )\n\u001b[1;32m--> 283\u001b[1;33m             return retry_target(\n\u001b[0m\u001b[0;32m    284\u001b[0m                 \u001b[0mtarget\u001b[0m\u001b[1;33m,\u001b[0m\u001b[1;33m\u001b[0m\u001b[1;33m\u001b[0m\u001b[0m\n\u001b[0;32m    285\u001b[0m                 \u001b[0mself\u001b[0m\u001b[1;33m.\u001b[0m\u001b[0m_predicate\u001b[0m\u001b[1;33m,\u001b[0m\u001b[1;33m\u001b[0m\u001b[1;33m\u001b[0m\u001b[0m\n",
      "\u001b[1;32m~\\AppData\\Local\\Programs\\Python\\Python38\\lib\\site-packages\\google\\api_core\\retry.py\u001b[0m in \u001b[0;36mretry_target\u001b[1;34m(target, predicate, sleep_generator, deadline, on_error)\u001b[0m\n\u001b[0;32m    188\u001b[0m     \u001b[1;32mfor\u001b[0m \u001b[0msleep\u001b[0m \u001b[1;32min\u001b[0m \u001b[0msleep_generator\u001b[0m\u001b[1;33m:\u001b[0m\u001b[1;33m\u001b[0m\u001b[1;33m\u001b[0m\u001b[0m\n\u001b[0;32m    189\u001b[0m         \u001b[1;32mtry\u001b[0m\u001b[1;33m:\u001b[0m\u001b[1;33m\u001b[0m\u001b[1;33m\u001b[0m\u001b[0m\n\u001b[1;32m--> 190\u001b[1;33m             \u001b[1;32mreturn\u001b[0m \u001b[0mtarget\u001b[0m\u001b[1;33m(\u001b[0m\u001b[1;33m)\u001b[0m\u001b[1;33m\u001b[0m\u001b[1;33m\u001b[0m\u001b[0m\n\u001b[0m\u001b[0;32m    191\u001b[0m \u001b[1;33m\u001b[0m\u001b[0m\n\u001b[0;32m    192\u001b[0m         \u001b[1;31m# pylint: disable=broad-except\u001b[0m\u001b[1;33m\u001b[0m\u001b[1;33m\u001b[0m\u001b[1;33m\u001b[0m\u001b[0m\n",
      "\u001b[1;32m~\\AppData\\Local\\Programs\\Python\\Python38\\lib\\site-packages\\google\\cloud\\_http\\__init__.py\u001b[0m in \u001b[0;36mapi_request\u001b[1;34m(self, method, path, query_params, data, content_type, headers, api_base_url, api_version, expect_json, _target_object, timeout)\u001b[0m\n\u001b[0;32m    478\u001b[0m \u001b[1;33m\u001b[0m\u001b[0m\n\u001b[0;32m    479\u001b[0m         \u001b[1;32mif\u001b[0m \u001b[1;32mnot\u001b[0m \u001b[1;36m200\u001b[0m \u001b[1;33m<=\u001b[0m \u001b[0mresponse\u001b[0m\u001b[1;33m.\u001b[0m\u001b[0mstatus_code\u001b[0m \u001b[1;33m<\u001b[0m \u001b[1;36m300\u001b[0m\u001b[1;33m:\u001b[0m\u001b[1;33m\u001b[0m\u001b[1;33m\u001b[0m\u001b[0m\n\u001b[1;32m--> 480\u001b[1;33m             \u001b[1;32mraise\u001b[0m \u001b[0mexceptions\u001b[0m\u001b[1;33m.\u001b[0m\u001b[0mfrom_http_response\u001b[0m\u001b[1;33m(\u001b[0m\u001b[0mresponse\u001b[0m\u001b[1;33m)\u001b[0m\u001b[1;33m\u001b[0m\u001b[1;33m\u001b[0m\u001b[0m\n\u001b[0m\u001b[0;32m    481\u001b[0m \u001b[1;33m\u001b[0m\u001b[0m\n\u001b[0;32m    482\u001b[0m         \u001b[1;32mif\u001b[0m \u001b[0mexpect_json\u001b[0m \u001b[1;32mand\u001b[0m \u001b[0mresponse\u001b[0m\u001b[1;33m.\u001b[0m\u001b[0mcontent\u001b[0m\u001b[1;33m:\u001b[0m\u001b[1;33m\u001b[0m\u001b[1;33m\u001b[0m\u001b[0m\n",
      "\u001b[1;31mBadRequest\u001b[0m: 400 DELETE https://bigquery.googleapis.com/bigquery/v2/projects/looker-data-grfit/datasets/bq_lib_ch05_jsyoo?prettyPrint=false: Dataset looker-data-grfit:bq_lib_ch05_jsyoo is still in use"
     ]
    }
   ],
   "source": [
    "# 데이터셋 삭제\n",
    "bq.delete_dataset(DS_NAME, not_found_ok=True)"
   ]
  },
  {
   "cell_type": "code",
   "execution_count": 8,
   "metadata": {},
   "outputs": [],
   "source": [
    "# 데이터셋 다시 생성\n",
    "# DS_NAME = \"bq_lib_ch05_jsyoo\"\n",
    "dataset_id = \"{}.{}\".format(PROJECT, DS_NAME)\n",
    "dsinfo = bigquery.Dataset(dataset_id)\n",
    "dsinfo.location = \"asia-northeast3\"\n",
    "ds = bq.create_dataset(dsinfo, exists_ok=True)"
   ]
  },
  {
   "cell_type": "code",
   "execution_count": 11,
   "metadata": {},
   "outputs": [
    {
     "name": "stdout",
     "output_type": "stream",
     "text": [
      "vms7YcOFl5Uxn6jFPnESoQ== [SchemaField('chapter', 'INTEGER', 'NULLABLE', None, (), None), SchemaField('title', 'STRING', 'NULLABLE', None, (), None)]\n"
     ]
    }
   ],
   "source": [
    "# 신규 테이블 생성\n",
    "TABLE_NAME = \"temp_table\"\n",
    "table_id = \"{}.{}.{}\".format(PROJECT, DS_NAME, TABLE_NAME)\n",
    "schema = [\n",
    "    bigquery.SchemaField(\"chapter\", \"INTEGER\", mode=\"REQUIRED\"),\n",
    "    bigquery.SchemaField(\"title\", \"STRING\", mode=\"REQUIRED\"),\n",
    "]\n",
    "table = bq.create_table(bigquery.Table(table_id, schema), exists_ok=True)\n",
    "\n",
    "print(table.etag, table.schema)"
   ]
  },
  {
   "cell_type": "code",
   "execution_count": 12,
   "metadata": {},
   "outputs": [],
   "source": [
    "# 신규 행 추가\n",
    "rows = [\n",
    "    (1, u\"What is BigQuery?\"),\n",
    "    (2, u\"BigQuery test\"),\n",
    "]\n",
    "\n",
    "errors = bq.insert_rows(table, rows=rows)"
   ]
  },
  {
   "cell_type": "code",
   "execution_count": 13,
   "metadata": {},
   "outputs": [
    {
     "name": "stdout",
     "output_type": "stream",
     "text": [
      "0\n"
     ]
    }
   ],
   "source": [
    "# 테이블 메타데이터는 바로 업데이트 되지 않음\n",
    "print(table.num_rows)"
   ]
  },
  {
   "cell_type": "code",
   "execution_count": 14,
   "metadata": {},
   "outputs": [],
   "source": [
    "# pandas import\n",
    "import pandas as pd\n",
    "from google.cloud.bigquery.job import LoadJobConfig, WriteDisposition, CreateDisposition"
   ]
  },
  {
   "cell_type": "code",
   "execution_count": 15,
   "metadata": {},
   "outputs": [
    {
     "data": {
      "text/plain": [
       "LoadJob<project=looker-data-grfit, location=asia-northeast3, id=89c4c57a-052a-44cb-9814-61225248af0e>"
      ]
     },
     "execution_count": 15,
     "metadata": {},
     "output_type": "execute_result"
    }
   ],
   "source": [
    "# 판다스 데이터 로드\n",
    "data = [\n",
    "    (3, u\"pandas\"),\n",
    "    (4, u\"data load\")\n",
    "]\n",
    "# 데이터프레임 설정\n",
    "df = pd.DataFrame(data, columns=[\"chapter\", \"title\"])\n",
    "table_id = '{}.{}.{}'.format(PROJECT, DS_NAME, TABLE_NAME)\n",
    "load_config = LoadJobConfig(\n",
    "    create_disposition=CreateDisposition.CREATE_IF_NEEDED,\n",
    "    write_disposition=WriteDisposition.WRITE_APPEND)\n",
    "# 데이터프레임에서 데이터 로드\n",
    "job = bq.load_table_from_dataframe(df, table_id, job_config=load_config)\n",
    "job.result() # blocks and waits"
   ]
  },
  {
   "cell_type": "markdown",
   "metadata": {},
   "source": [
    "##### LoadJobConfig - Create / Write 설정\n",
    "1. Create\n",
    "- CREATE_NEVER : 테이블이 존재한다는 가정하에 작동\n",
    "- CREATE_IF_NEEDED : 테이블이 있으면 기존 테이블에, 없으면 생성\n",
    "2. write\n",
    "- WRITE_APPEND : 데이터 추가\n",
    "- WRITE_EMPTY : 테이블이 비어있어야 하며, 존재하면 에러발생\n",
    "- WRITE_TRUNCATE : 기존 테이블을 비우고 데이터 추가\n"
   ]
  },
  {
   "cell_type": "code",
   "execution_count": 16,
   "metadata": {},
   "outputs": [],
   "source": [
    "# 로컬파일 로드\n",
    "with open(\"upload.csv\", mode=\"rb\") as fp:\n",
    "    job = bq.load_table_from_file(fp, table, job_config=load_config)"
   ]
  },
  {
   "cell_type": "code",
   "execution_count": 17,
   "metadata": {},
   "outputs": [
    {
     "name": "stdout",
     "output_type": "stream",
     "text": [
      "id bikes_count docks_count\n",
      "126 0 52\n",
      "12 1 49\n",
      "175 1 51\n",
      "249 1 42\n",
      "361 3 55\n"
     ]
    }
   ],
   "source": [
    "# 테이블에서 데이터 추출\n",
    "# 추출할 table, field, row 정보 설정\n",
    "table_id = 'bigquery-public-data.london_bicycles.cycle_stations'\n",
    "table = bq.get_table(table_id)\n",
    "fields = [field for field in table.schema if 'count' in field.name or field.name =='id']\n",
    "rows = bq.list_rows(table, start_index=0, max_results=5, selected_fields=fields)\n",
    "# 추출 데이터 출력\n",
    "print(*[field.name for field in rows.schema])\n",
    "for row in rows: print(*row)"
   ]
  },
  {
   "cell_type": "code",
   "execution_count": 18,
   "metadata": {},
   "outputs": [
    {
     "name": "stdout",
     "output_type": "stream",
     "text": [
      "Hyde Park Corner, Hyde Park 203592\n",
      "Belgrove Street , King's Cross 168110\n",
      "Waterloo Station 3, Waterloo 148809\n",
      "Albert Gate, Hyde Park 145794\n",
      "Black Lion Gate, Kensington Gardens 137930\n",
      "Waterloo Station 1, Waterloo 106092\n",
      "Wellington Arch, Hyde Park 102770\n",
      "Triangle Car Park, Hyde Park 99368\n",
      "Wormwood Street, Liverpool Street 82483\n",
      "Palace Gate, Kensington Gardens 80342\n"
     ]
    }
   ],
   "source": [
    "# 파라미터를 이용한 SQL 실행\n",
    "sql = open(\"exec_query.sql\").read()\n",
    "# 쿼리 파라미터 설정\n",
    "config = bigquery.QueryJobConfig()\n",
    "config.query_parameters = [\n",
    "    bigquery.ScalarQueryParameter('min_duration', 'INT64', 600)\n",
    "]\n",
    "# 쿼리 실행\n",
    "result = bq.query(sql, location='EU', job_config=config)\n",
    "# 쿼리 결과 출력\n",
    "for row in result:\n",
    "    fields = (row['start_station_name'], row['num_trips'])\n",
    "    print(*fields)"
   ]
  },
  {
   "cell_type": "code",
   "execution_count": 19,
   "metadata": {},
   "outputs": [],
   "source": [
    "# jupyter-lab에서 jupyter magic 키워드 사용 개발(%, %%)\n",
    "# 클라이언트 라이브러리에서 bigquery magic 라이브러리 호출\n",
    "%load_ext google.cloud.bigquery"
   ]
  },
  {
   "cell_type": "code",
   "execution_count": 22,
   "metadata": {},
   "outputs": [
    {
     "name": "stderr",
     "output_type": "stream",
     "text": [
      "Query complete after 0.04s: 100%|████████████████████████████████████████████████████| 1/1 [00:00<00:00, 126.92query/s]\n",
      "Downloading: 100%|████████████████████████████████████████████████████████████████| 802/802 [00:03<00:00, 231.57rows/s]\n"
     ]
    }
   ],
   "source": [
    "%%bigquery df\n",
    "--project looker-grfit-data\n",
    "WITH ALL_BAD_TRIPS AS (\n",
    "    SELECT\n",
    "        START_STATION_NAME,\n",
    "        COUNTIF(DURATION < 600 AND START_STATION_NAME = END_STATION_NAME) AS BAD_TRIPS,\n",
    "        COUNT(*) AS NUM_TRIPS\n",
    "    FROM `bigquery-public-data`.london_bicycles.cycle_hire\n",
    "    WHERE EXTRACT(YEAR FROM START_DATE) = 2016\n",
    "    GROUP BY START_STATION_NAME\n",
    "    HAVING NUM_TRIPS > 10\n",
    ")\n",
    "SELECT *, BAD_TRIPS / NUM_TRIPS AS FRACTION_BAD\n",
    "FROM ALL_BAD_TRIPS \n",
    "ORDER BY FRACTION_BAD DESC"
   ]
  },
  {
   "cell_type": "code",
   "execution_count": 23,
   "metadata": {},
   "outputs": [],
   "source": [
    "df.describe();"
   ]
  },
  {
   "cell_type": "code",
   "execution_count": 24,
   "metadata": {},
   "outputs": [
    {
     "data": {
      "image/png": "[encoded data removed]",
      "text/plain": [
       "<Figure size 432x288 with 1 Axes>"
      ]
     },
     "metadata": {
      "needs_background": "light"
     },
     "output_type": "display_data"
    }
   ],
   "source": [
    "df.plot.scatter('NUM_TRIPS', 'FRACTION_BAD');"
   ]
  },
  {
   "cell_type": "code",
   "execution_count": null,
   "metadata": {},
   "outputs": [],
   "source": []
  }
 ],
 "metadata": {
  "interpreter": {
   "hash": "e0a9a546311845e517a7260c4e2c9278b50361d4d99eb58663d9762bec3edf8d"
  },
  "kernelspec": {
   "display_name": "bq-python-kernel",
   "language": "python",
   "name": "venv"
  },
  "language_info": {
   "codemirror_mode": {
    "name": "ipython",
    "version": 3
   },
   "file_extension": ".py",
   "mimetype": "text/x-python",
   "name": "python",
   "nbconvert_exporter": "python",
   "pygments_lexer": "ipython3",
   "version": "3.8.9"
  }
 },
 "nbformat": 4,
 "nbformat_minor": 4
}
